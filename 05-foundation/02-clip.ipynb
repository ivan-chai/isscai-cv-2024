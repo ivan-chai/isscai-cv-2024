{
 "cells": [
  {
   "cell_type": "markdown",
   "id": "ebe12357-aba1-4a1d-a4c6-64d80379e794",
   "metadata": {},
   "source": [
    "# CLIP: Multimodal foundation model\n",
    "\n",
    "CLIP can compare a text with an image and predict a matching score.\n",
    "\n",
    "**Goal.** The goal of this notebook is to demonstrate zero-shot capabilities of foundation models.\n",
    "\n",
    "You need the following extra libraries beyond PyTorch:\n",
    "* tranformers\n",
    "* Pillow (PIL)"
   ]
  },
  {
   "cell_type": "code",
   "execution_count": null,
   "id": "ea87f03d-81ea-4fd9-9477-b7d1f2a7d73d",
   "metadata": {},
   "outputs": [],
   "source": [
    "# Uncomment in Google Colab.\n",
    "#! mkdir images\n",
    "#! for name in cat cat_tree landscape opossum room street_upside_down; do wget -O images/${name}.jpg https://raw.github.com/ivan-chai/isscai-cv-2024/master/05-foundation/images/${name}.jpg; done"
   ]
  },
  {
   "cell_type": "code",
   "execution_count": null,
   "id": "647e9266-e7ff-47d1-8f29-0572d5572690",
   "metadata": {},
   "outputs": [],
   "source": [
    "import math\n",
    "import pathlib\n",
    "import transformers\n",
    "from PIL import Image\n",
    "from matplotlib import pyplot as plt\n",
    "\n",
    "paths = list(pathlib.Path(\"./images/\").glob(\"*.jpg\"))\n",
    "images = [Image.open(path) for path in paths]\n",
    "\n",
    "TILE_SIZE = 3\n",
    "fig, axs = plt.subplots(int(math.ceil(len(images) / TILE_SIZE)), TILE_SIZE)\n",
    "for i, image in enumerate(images):\n",
    "    ax = axs[i // TILE_SIZE, i % TILE_SIZE]\n",
    "    name = paths[i].name.split(\".\")[0]\n",
    "    ax.set_title(name)\n",
    "    ax.set_axis_off()\n",
    "    ax.imshow(image)\n",
    "plt.show()"
   ]
  },
  {
   "cell_type": "code",
   "execution_count": null,
   "id": "a2b144e2-9a64-4eb6-a24e-0e3ef2d6098e",
   "metadata": {},
   "outputs": [],
   "source": [
    "model = transformers.CLIPModel.from_pretrained(\"openai/clip-vit-base-patch32\")\n",
    "processor = transformers.CLIPProcessor.from_pretrained(\"openai/clip-vit-base-patch32\")"
   ]
  },
  {
   "cell_type": "code",
   "execution_count": null,
   "id": "50edf532-6484-4264-9670-7b6a92530326",
   "metadata": {},
   "outputs": [],
   "source": [
    "prompts = [\"a photo of a cat\", \"a beautiful image\", \"an outdoor scene\", \"an upside-down image\", \"a landscape\"]\n",
    "inputs = processor(text=prompts,\n",
    "                   images=images,\n",
    "                   return_tensors=\"pt\", padding=True)\n",
    "logits = model(**inputs).logits_per_image\n",
    "logits.shape"
   ]
  },
  {
   "cell_type": "code",
   "execution_count": null,
   "id": "3a2cdb66-3c83-4189-b1eb-698b7e26f3a3",
   "metadata": {},
   "outputs": [],
   "source": [
    "def draw_tile(scores, threshold):\n",
    "    fig, axs = plt.subplots(int(math.ceil(len(images) / TILE_SIZE)), TILE_SIZE)\n",
    "    for i, image in enumerate(images):\n",
    "        ax = axs[i // TILE_SIZE, i % TILE_SIZE]\n",
    "        score = scores[i]\n",
    "        color = \"green\" if score > threshold else \"red\"\n",
    "        ax.set_title(f\"Score: {score:.1f}\", color=color)\n",
    "        ax.set_axis_off()\n",
    "        ax.imshow(image)\n",
    "    plt.show()"
   ]
  },
  {
   "cell_type": "code",
   "execution_count": null,
   "id": "d753d4cf-d3f9-4d21-8713-e5621f4ee9b6",
   "metadata": {},
   "outputs": [],
   "source": [
    "thresholds = [25, 21, 20, 25, 23]\n",
    "for i, prompt in enumerate(prompts):\n",
    "    print(\"=\" * 50)\n",
    "    print(prompt.upper())\n",
    "    print(\"=\" * 50)\n",
    "    draw_tile(logits[:, i], thresholds[i])"
   ]
  }
 ],
 "metadata": {
  "kernelspec": {
   "display_name": "Python 3 (ipykernel)",
   "language": "python",
   "name": "python3"
  },
  "language_info": {
   "codemirror_mode": {
    "name": "ipython",
    "version": 3
   },
   "file_extension": ".py",
   "mimetype": "text/x-python",
   "name": "python",
   "nbconvert_exporter": "python",
   "pygments_lexer": "ipython3",
   "version": "3.10.13"
  }
 },
 "nbformat": 4,
 "nbformat_minor": 5
}
