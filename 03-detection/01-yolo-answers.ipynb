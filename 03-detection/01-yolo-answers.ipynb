{
 "cells": [
  {
   "cell_type": "markdown",
   "id": "a03a0366-e2e5-4f73-9baa-eeae51c34286",
   "metadata": {},
   "source": [
    "# Object detection with YOLOS\n",
    "\n",
    "In this notebook we will apply YOLOS for object detection, implement NMS, and visualize results.\n",
    "\n",
    "The original paper (NeurIPS 2021): https://arxiv.org/pdf/2106.00666\n",
    "\n",
    "**Goal.** The goal of this notebook is to develop the basic skills in working with detection models and bounding boxes.\n",
    "\n",
    "You need the following extra libraries beyond PyTorch:\n",
    "* transformers\n",
    "* Pillow (PIL)"
   ]
  },
  {
   "cell_type": "code",
   "execution_count": null,
   "id": "3d3c9a25-e37c-4c3b-b1f2-d97aeb815246",
   "metadata": {},
   "outputs": [],
   "source": [
    "import torch\n",
    "import matplotlib.patches as patches\n",
    "from transformers import AutoImageProcessor, AutoModelForObjectDetection\n",
    "from transformers.models.yolos.image_processing_yolos import center_to_corners_format\n",
    "from PIL import Image\n",
    "from matplotlib import pyplot as plt\n",
    "\n",
    "CONFIDENCE_THRESHOLD = 0.5\n",
    "IOU_THRESHOLD = 0.5\n",
    "\n",
    "# Helper tools. You can skip this block.\n",
    "\n",
    "def check_batch_iou(fn):\n",
    "    reference = torch.tensor([0, 0, 4, 6])\n",
    "    boxes = torch.tensor([[0, 0, 4, 4],\n",
    "                          [-2, -2, 2, 2],\n",
    "                          [-4, -4, 0, 0],\n",
    "                          [-6, -6, -2, -2]])\n",
    "    iou_gt = torch.tensor([2 / 3, 1 / 9, 0, 0])\n",
    "    result = torch.as_tensor(fn(reference, boxes))\n",
    "    if result.shape != (4,):\n",
    "        print(\"Wrong output size\")\n",
    "        return False\n",
    "    for i, box in enumerate(boxes):\n",
    "        if abs(result[i] - iou_gt[i]) > 1e-6:\n",
    "            print(\"Wrong IoU\")\n",
    "            print(\"Reference:\", reference)\n",
    "            print(\"Box:\", box)\n",
    "            print(\"Answer:\", result[i])\n",
    "            print(\"True answer:\", iou_gt[i])\n",
    "            return False\n",
    "    print(\"OK!\")\n",
    "    return True"
   ]
  },
  {
   "cell_type": "markdown",
   "id": "b2e5db98-b25f-4f11-862f-63fe3c7aeb28",
   "metadata": {},
   "source": [
    "# Preprocessing\n",
    "\n",
    "We will use the standard image preprocessor from HuggingFace."
   ]
  },
  {
   "cell_type": "code",
   "execution_count": null,
   "id": "026b5815-921e-4eec-82f1-4b93980d9865",
   "metadata": {},
   "outputs": [],
   "source": [
    "image = Image.open(\"image.jpg\")\n",
    "plt.title(\"Input image\")\n",
    "plt.imshow(image)"
   ]
  },
  {
   "cell_type": "code",
   "execution_count": null,
   "id": "fc7f679c-1003-4c01-b4b7-10cd086604b9",
   "metadata": {},
   "outputs": [],
   "source": [
    "image_processor = AutoImageProcessor.from_pretrained(\"hustvl/yolos-tiny\")\n",
    "inputs = image_processor(images=image, return_tensors=\"pt\")\n",
    "value = inputs[\"pixel_values\"][0].permute(1, 2, 0)\n",
    "value = value - value.min()\n",
    "value = value / value.max()\n",
    "plt.title(\"Preprocessed\")\n",
    "plt.imshow(value)\n",
    "plt.show()"
   ]
  },
  {
   "cell_type": "markdown",
   "id": "f2893927-19d5-47d9-a7ef-e328dc0d151e",
   "metadata": {},
   "source": [
    "# Apply the model\n",
    "\n",
    "We will use the pretrained YOLOS model from HuggingFace."
   ]
  },
  {
   "cell_type": "code",
   "execution_count": null,
   "id": "5531510c-1847-493c-bf99-9569ed934863",
   "metadata": {},
   "outputs": [],
   "source": [
    "model = AutoModelForObjectDetection.from_pretrained(\"hustvl/yolos-tiny\")\n",
    "\n",
    "with torch.no_grad():\n",
    "    outputs = model(**inputs)\n",
    "logits = outputs[\"logits\"]\n",
    "boxes = outputs[\"pred_boxes\"]\n",
    "print(\"Logits:\", logits.shape)\n",
    "print(\"Boxes:\", boxes.shape)\n",
    "\n",
    "# Convert boxes from (center_x, center_y, width, height) to (left, upper, right, bottom).\n",
    "boxes = center_to_corners_format(boxes)\n",
    "\n",
    "probs = torch.nn.functional.softmax(logits, dim=-1)  # (B, N, C).\n",
    "\n",
    "# The last class is reserved for \"no object\".\n",
    "no_obj_probs = probs[:, :, -1]  # (B, N).\n",
    "obj_probs = 1 - no_obj_probs  # (B, N).\n",
    "\n",
    "def draw_boxes(image, boxes, probs):\n",
    "    plt.imshow(image)\n",
    "    image_width, image_height = image.size\n",
    "    for p, box in zip(probs, boxes):\n",
    "        score, label = p.max(dim=-1)\n",
    "        if score < CONFIDENCE_THRESHOLD:\n",
    "            continue\n",
    "        if label == 91:\n",
    "            # No object.\n",
    "            continue\n",
    "        print(\n",
    "            f\"Detected {model.config.id2label[label.item()]} with confidence \"\n",
    "            f\"{round(score.item(), 3)} at location {box}\"\n",
    "        )\n",
    "        l, u, r, b = box.tolist()\n",
    "        l, r = l * image_width, r * image_width\n",
    "        u, b = u * image_height, b * image_height\n",
    "        w = r - l\n",
    "        h = b - u\n",
    "        plt.gca().add_patch(patches.Rectangle(\n",
    "            (l, u), w, h,\n",
    "            linewidth=1, edgecolor='r', facecolor='none'\n",
    "        ))\n",
    "draw_boxes(image, boxes[0], probs[0])"
   ]
  },
  {
   "cell_type": "markdown",
   "id": "3625e0f4-23be-4e13-9e4d-9a0d2cad3bb2",
   "metadata": {},
   "source": [
    "We see many overlapping boxes for the ship class. We will apply NMS to solve the problem."
   ]
  },
  {
   "cell_type": "markdown",
   "id": "95ffe60d-1b69-4146-8064-767d3b97e901",
   "metadata": {},
   "source": [
    "# Assignment 1. Implement IoU computation\n",
    "\n",
    "Intersection-over-union (IoU) is computed as\n",
    "\n",
    "$\\mathrm{IoU}(box_1, box_2) = \\frac{\\mathrm{IntersectionArea}(box_1, box_2)}{\\mathrm{UnionArea}(box_1, box_2)}$\n",
    "\n",
    "Union area can be computed as a sum of boxes areas minus their intersection area."
   ]
  },
  {
   "cell_type": "code",
   "execution_count": null,
   "id": "151dd73e-3987-4202-be90-5a75540e02f3",
   "metadata": {},
   "outputs": [],
   "source": [
    "def batch_iou(reference, boxes):\n",
    "    \"\"\"Compute IoU for a batch of boxes.\n",
    "\n",
    "    Input boxes are in the format [left, top, right, bottom].\n",
    "    \n",
    "    Input:\n",
    "    1. reference: A reference box with shape (4).\n",
    "    2. boxes: Alternative boxes with shape (N, 4).\n",
    "    \n",
    "    Returns:\n",
    "    An array with length (N) with IoUs between reference and boxes.\n",
    "    \"\"\"\n",
    "    result = torch.empty(len(boxes))\n",
    "\n",
    "    # Your code starts here.\n",
    "    reference_area = (reference[2] - reference[0]) * (reference[3] - reference[1])\n",
    "    for i, b in enumerate(boxes):\n",
    "        inter_left = max(reference[0], b[0])\n",
    "        inter_top = max(reference[1], b[1])\n",
    "        inter_right = min(reference[2], b[2])\n",
    "        inter_bottom = min(reference[3], b[3])\n",
    "        inter_w = max(inter_right - inter_left, 0)\n",
    "        inter_h = max(inter_bottom - inter_top, 0)\n",
    "        inter_area = inter_w * inter_h\n",
    "        b_area = (b[2] - b[0]) * (b[3] - b[1])\n",
    "        union_area = reference_area + b_area - inter_area\n",
    "        result[i] = inter_area / union_area\n",
    "    # The end of your code.\n",
    "\n",
    "    return result\n",
    "\n",
    "assert check_batch_iou(batch_iou)"
   ]
  },
  {
   "cell_type": "markdown",
   "id": "fe99e847-0e26-4634-a181-c69a9989aa91",
   "metadata": {},
   "source": [
    "# Assignment 2. Implement Non-Maximum Suppression\n",
    "\n",
    "NMS algorithm:\n",
    "1. Order boxes by object probability in the descending order.\n",
    "2. Start from the beginning. For each box:\n",
    "    1. Compute IoU with the remaining boxes.\n",
    "    2. Remove the boxes with IoU greater than the threshold.\n",
    "4. Return the boxes that were kept.\n",
    "\n",
    "**Note** that the last probability corresponds to the \"no object\" class."
   ]
  },
  {
   "cell_type": "code",
   "execution_count": null,
   "id": "91519f25-092e-4f7f-bb57-e7bc5363d68e",
   "metadata": {},
   "outputs": [],
   "source": [
    "@torch.no_grad()\n",
    "def non_maximum_suppression(boxes, probs, iou_threshold=0.5):\n",
    "    \"\"\"Apply Non-maximum Suppression.\n",
    "\n",
    "    Inputs:\n",
    "        boxes: Tensor with shape (N, 4) in the (left, top, right, bottom) format.\n",
    "        probs: Class probabilities with shape (N, C + 1), with the last class reserved for \"no object\".\n",
    "    \n",
    "    Returns:\n",
    "        nms_boxes: Result boxes with shape (K, 4).\n",
    "        nms_probs: Corresponding probabilities with shape (K, C + 1).\n",
    "    \"\"\"\n",
    "    \n",
    "    # Your code starts here.\n",
    "    mask = torch.ones(len(boxes), dtype=torch.bool)\n",
    "    obj_probs = 1 - probs[:, -1]\n",
    "    order = torch.argsort(obj_probs, descending=True)\n",
    "    boxes = boxes[order]\n",
    "    probs = probs[order]\n",
    "    for i, box in enumerate(boxes):\n",
    "        ious = batch_iou(box, boxes[i + 1:])\n",
    "        mask[i + 1:] &= ious < iou_threshold\n",
    "    nms_boxes, nms_probs = boxes[mask], probs[mask]\n",
    "    # The end of your code.\n",
    "    \n",
    "    return nms_boxes, nms_probs\n",
    "\n",
    "nms_boxes, nms_probs = non_maximum_suppression(boxes[0], probs[0])\n",
    "print(\"Boxes after NMS:\", len(nms_boxes))\n",
    "draw_boxes(image, nms_boxes, nms_probs)"
   ]
  },
  {
   "cell_type": "markdown",
   "id": "249c4e51-c51c-47b6-a808-2464ed1a40a2",
   "metadata": {},
   "source": [
    "NMS must keep a single ship detection and a single cat detection."
   ]
  }
 ],
 "metadata": {
  "kernelspec": {
   "display_name": "Python 3 (ipykernel)",
   "language": "python",
   "name": "python3"
  },
  "language_info": {
   "codemirror_mode": {
    "name": "ipython",
    "version": 3
   },
   "file_extension": ".py",
   "mimetype": "text/x-python",
   "name": "python",
   "nbconvert_exporter": "python",
   "pygments_lexer": "ipython3",
   "version": "3.10.13"
  }
 },
 "nbformat": 4,
 "nbformat_minor": 5
}
